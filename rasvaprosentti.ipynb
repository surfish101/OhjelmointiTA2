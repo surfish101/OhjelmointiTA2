{
 "metadata": {
  "language_info": {
   "codemirror_mode": {
    "name": "ipython",
    "version": 3
   },
   "file_extension": ".py",
   "mimetype": "text/x-python",
   "name": "python",
   "nbconvert_exporter": "python",
   "pygments_lexer": "ipython3",
   "version": "3.8.7-final"
  },
  "orig_nbformat": 2,
  "kernelspec": {
   "name": "python3",
   "display_name": "Python 3",
   "language": "python"
  }
 },
 "nbformat": 4,
 "nbformat_minor": 2,
 "cells": [
  {
   "source": [
    "# Painonhallinta\n",
    "Prototyyppi painonhallintasovelluksen rakentamiseksi"
   ],
   "cell_type": "markdown",
   "metadata": {}
  },
  {
   "source": [
    "## Laskentakaavat\n",
    "**Painoindeksi BMI (Body Mass Index):** paino (kg) / (pituus(m) x pituus(m))\n",
    "\n",
    "\n",
    "**Rasvaprosentti:**\n",
    "\n",
    "Lapsen rasvaprosentti = (1.51 × painoindeksi) − (0.70 × ikä) − (3.6 × sukupuoli) + 1.4\n",
    "\n",
    "Aikuisen rasvaprosentti = (1.20 × painoindeksi) + (0.23 × ikä) − (10.8 × sukupuoli) − 5.4\n",
    "\n",
    "jossa sukupuoli 1 jos mies ja 0, jos nainen."
   ],
   "cell_type": "markdown",
   "metadata": {}
  },
  {
   "cell_type": "code",
   "execution_count": 7,
   "metadata": {},
   "outputs": [],
   "source": [
    "# Funktio painoindeksin (body mass index) laskemiseksi\n",
    "def bmi(paino, pituus):\n",
    "    painoindeksi = paino / pituus**2\n",
    "    return painoindeksi"
   ]
  },
  {
   "cell_type": "code",
   "execution_count": 8,
   "metadata": {},
   "outputs": [],
   "source": [
    "# Funktio kehon rasvaprosentin laskemiseksi\n",
    "def rasvaprosentti(bmi, ika, sukupuoli):\n",
    "    rprosentti = 1.2 * bmi + 0.23 * ika - 10.8 * sukupuoli - 5.4\n",
    "    return rprosentti"
   ]
  },
  {
   "cell_type": "code",
   "execution_count": 9,
   "metadata": {},
   "outputs": [],
   "source": [
    "# Kysytään käyttäjältä tarvittavat tiedot ja muunnetaan arvot suoraan float-arvoiksi\n",
    "paino = float(input('Anna painosi kilogrammoina: '))\n",
    "pituus = float(input('Anna pituutesi metreinä: '))\n",
    "ika = float(input('Anna ikäsi: '))\n",
    "sukupuoli = float(input('Paina 1 jos olet mies, 0 jos olet nainen: '))"
   ]
  },
  {
   "cell_type": "code",
   "execution_count": 10,
   "metadata": {},
   "outputs": [
    {
     "output_type": "stream",
     "name": "stdout",
     "text": [
      "Rasvaprosenttisi on 29.818755939756777\n"
     ]
    }
   ],
   "source": [
    "# Lasketaan painoindeksi kysyttyjen tietojen perusteella\n",
    "bmi = bmi(paino, pituus)\n",
    "\n",
    "# Lasketaan rasvaprosentti\n",
    "rasvaprosentti = rasvaprosentti(bmi, ika, sukupuoli)\n",
    "print('Rasvaprosenttisi on:', rasvaprosentti)"
   ]
  }
 ]
}