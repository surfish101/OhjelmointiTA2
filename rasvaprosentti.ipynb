{
 "metadata": {
  "language_info": {
   "codemirror_mode": {
    "name": "ipython",
    "version": 3
   },
   "file_extension": ".py",
   "mimetype": "text/x-python",
   "name": "python",
   "nbconvert_exporter": "python",
   "pygments_lexer": "ipython3",
   "version": "3.8.7-final"
  },
  "orig_nbformat": 2,
  "kernelspec": {
   "name": "python3",
   "display_name": "Python 3",
   "language": "python"
  }
 },
 "nbformat": 4,
 "nbformat_minor": 2,
 "cells": [
  {
   "source": [
    "# Painonhallinta\n",
    "Prototyyppi painonhallintasovelluksen rakentamiseksi"
   ],
   "cell_type": "markdown",
   "metadata": {}
  },
  {
   "source": [
    "## Laskentakaavat\n",
    "**Painoindeksi BMI (Body Mass Index):** paino (kg) / (pituus(m) x pituus(m))\n",
    "\n",
    "\n",
    "**Rasvaprosentti:**\n",
    "\n",
    "Lapsen rasvaprosentti = (1.51 × painoindeksi) − (0.70 × ikä) − (3.6 × sukupuoli) + 1.4\n",
    "\n",
    "Aikuisen rasvaprosentti = (1.20 × painoindeksi) + (0.23 × ikä) − (10.8 × sukupuoli) − 5.4\n",
    "\n",
    "jossa sukupuoli 1, jos mies ja 0, jos nainen."
   ],
   "cell_type": "markdown",
   "metadata": {}
  },
  {
   "cell_type": "code",
   "execution_count": 2,
   "metadata": {},
   "outputs": [
    {
     "output_type": "stream",
     "name": "stdout",
     "text": [
      "40.26953743724664\n"
     ]
    }
   ],
   "source": [
    "def bmi(paino, pituus):\n",
    "    painoindeksi = paino / pituus**2\n",
    "    return painoindeksi\n",
    "\n",
    "print(bmi(150, 1.93))"
   ]
  }
 ]
}