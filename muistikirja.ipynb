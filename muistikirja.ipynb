{
 "metadata": {
  "language_info": {
   "codemirror_mode": {
    "name": "ipython",
    "version": 3
   },
   "file_extension": ".py",
   "mimetype": "text/x-python",
   "name": "python",
   "nbconvert_exporter": "python",
   "pygments_lexer": "ipython3",
   "version": "3.8.7-final"
  },
  "orig_nbformat": 2,
  "kernelspec": {
   "name": "python3",
   "display_name": "Python 3",
   "language": "python"
  }
 },
 "nbformat": 4,
 "nbformat_minor": 2,
 "cells": [
  {
   "source": [
    "# Jupyter-muistikirja\n",
    "Muistikirjaan voi kirjoittaa tekstejä Markdown-kielellä ja koodia Pythonilla.\n"
   ],
   "cell_type": "markdown",
   "metadata": {}
  },
  {
   "cell_type": "code",
   "execution_count": 11,
   "metadata": {},
   "outputs": [
    {
     "output_type": "stream",
     "name": "stdout",
     "text": [
      "Github Campus Partner pääkäyttäjä on Markku Kynsijärvi\n"
     ]
    }
   ],
   "source": [
    "etunimi = \"Markku\"\n",
    "sukunimi = \"Kynsijärvi\"\n",
    "print(\"Github Campus Partner pääkäyttäjä on\", etunimi, sukunimi)"
   ]
  },
  {
   "source": [
    "## Funktio muistikirjassa"
   ],
   "cell_type": "markdown",
   "metadata": {}
  },
  {
   "cell_type": "code",
   "execution_count": 12,
   "metadata": {},
   "outputs": [],
   "source": [
    "def ympyran_keha(halkaisija):\n",
    "    keha = halkaisija * 3.14159\n",
    "    return  keha\n",
    "\n",
    "kehan_pituus = ympyran_keha(2)"
   ]
  }
 ]
}